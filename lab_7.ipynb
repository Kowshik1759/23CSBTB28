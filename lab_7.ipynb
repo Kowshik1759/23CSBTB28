{
  "nbformat": 4,
  "nbformat_minor": 0,
  "metadata": {
    "colab": {
      "provenance": [],
      "authorship_tag": "ABX9TyOOgh8Wg2ce/0G5nJb8Qe6u",
      "include_colab_link": true
    },
    "kernelspec": {
      "name": "python3",
      "display_name": "Python 3"
    },
    "language_info": {
      "name": "python"
    }
  },
  "cells": [
    {
      "cell_type": "markdown",
      "metadata": {
        "id": "view-in-github",
        "colab_type": "text"
      },
      "source": [
        "<a href=\"https://colab.research.google.com/github/Kowshik1759/23CSBTB28/blob/main/lab_7.ipynb\" target=\"_parent\"><img src=\"https://colab.research.google.com/assets/colab-badge.svg\" alt=\"Open In Colab\"/></a>"
      ]
    },
    {
      "cell_type": "code",
      "execution_count": 1,
      "metadata": {
        "id": "sBdGvcFT2jQ4"
      },
      "outputs": [],
      "source": [
        "import numpy as np\n",
        "import pandas as pd\n",
        "#from sklearn.datasets import load_boston # This function is no longer available\n",
        "from sklearn.datasets import fetch_openml # Use this to load the Ames housing dataset\n",
        "from sklearn.model_selection import train_test_split\n",
        "from sklearn.linear_model import LinearRegression\n",
        "from sklearn.metrics import mean_squared_error, r2_score\n",
        "from sklearn.preprocessing import OneHotEncoder\n",
        "\n",
        "# Load the dataset\n",
        "#boston = load_boston()  # Older scikit-learn versions, for newer use fetch_openml\n",
        "housing = fetch_openml(name=\"house_prices\", as_frame=True)\n",
        "\n",
        "# Convert the dataset to a DataFrame for easier manipulation\n",
        "#data = pd.DataFrame(boston.data, columns=boston.feature_names)\n",
        "#data['MEDV'] = boston.target  # MEDV is the target variable\n",
        "data = housing.data\n",
        "data['MEDV'] = housing.target\n",
        "\n",
        "# Define the features (X) and the target (y)\n",
        "X = data.drop(columns=['MEDV'])  # Features\n",
        "y = data['MEDV']                # Target (Median value of homes)\n",
        "\n",
        "# Split the data into training and test sets\n",
        "X_train, X_test, y_train, y_test = train_test_split(X, y, test_size=0.2, random_state=42)\n",
        "\n",
        "# Identify categorical columns\n",
        "categorical_cols = X.select_dtypes(include=['object']).columns\n",
        "\n",
        "# Apply one-hot encoding to categorical features\n",
        "encoder = OneHotEncoder(handle_unknown='ignore', sparse_output=False)"
      ]
    }
  ]
}