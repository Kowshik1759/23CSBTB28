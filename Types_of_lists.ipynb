{
  "nbformat": 4,
  "nbformat_minor": 0,
  "metadata": {
    "colab": {
      "provenance": [],
      "authorship_tag": "ABX9TyNyj0nyabfoDp+AUhHBO4lg",
      "include_colab_link": true
    },
    "kernelspec": {
      "name": "python3",
      "display_name": "Python 3"
    },
    "language_info": {
      "name": "python"
    }
  },
  "cells": [
    {
      "cell_type": "markdown",
      "metadata": {
        "id": "view-in-github",
        "colab_type": "text"
      },
      "source": [
        "<a href=\"https://colab.research.google.com/github/Kowshik1759/23CSBTB28/blob/main/Types_of_lists.ipynb\" target=\"_parent\"><img src=\"https://colab.research.google.com/assets/colab-badge.svg\" alt=\"Open In Colab\"/></a>"
      ]
    },
    {
      "cell_type": "code",
      "execution_count": null,
      "metadata": {
        "id": "md7JOFY_vOaH"
      },
      "outputs": [],
      "source": []
    },
    {
      "cell_type": "markdown",
      "source": [],
      "metadata": {
        "id": "wPRr1nx_vPXF"
      }
    },
    {
      "cell_type": "code",
      "source": [
        " import numpy as np\n",
        "list={1,5,2,6,7}\n",
        "print(list)\n",
        "print(type(list))"
      ],
      "metadata": {
        "colab": {
          "base_uri": "https://localhost:8080/"
        },
        "id": "dNqBHYQxv4OO",
        "outputId": "7b0e88da-fefc-43c7-ca81-e0b64cc1e95a"
      },
      "execution_count": 1,
      "outputs": [
        {
          "output_type": "stream",
          "name": "stdout",
          "text": [
            "{1, 2, 5, 6, 7}\n",
            "<class 'set'>\n"
          ]
        }
      ]
    },
    {
      "cell_type": "code",
      "source": [
        "import numpy as np\n",
        "list=[1,5,2,6,7]\n",
        "print(list)\n",
        "list1=[2,3,4,5,6]\n",
        "print(list1)\n",
        "print(type(list))\n",
        "print(type(list1))\n",
        "\n",
        "list=[\"Greeks\",\"For\",\"Greeks\"]\n",
        "list2=\"my first lab\"\n",
        "list3=4.3\n",
        "list4=2j+6\n",
        "list5='My first lab'\n",
        "print(type(list2))\n",
        "print(type(list3))\n",
        "print(type(list4))\n",
        "print(type(list5))\n",
        "print(\"\\nlist Items: \")\n",
        "print(list)\n",
        "print(type(list))\n",
        "print(list[0])\n",
        "print(list[1])\n",
        "print(list[2])"
      ],
      "metadata": {
        "colab": {
          "base_uri": "https://localhost:8080/"
        },
        "id": "EvME3sS6yg2L",
        "outputId": "7b44316f-14c8-4732-ca12-eb7e6a755edc"
      },
      "execution_count": 2,
      "outputs": [
        {
          "output_type": "stream",
          "name": "stdout",
          "text": [
            "[1, 5, 2, 6, 7]\n",
            "[2, 3, 4, 5, 6]\n",
            "<class 'list'>\n",
            "<class 'list'>\n",
            "<class 'str'>\n",
            "<class 'float'>\n",
            "<class 'complex'>\n",
            "<class 'str'>\n",
            "\n",
            "list Items: \n",
            "['Greeks', 'For', 'Greeks']\n",
            "<class 'list'>\n",
            "Greeks\n",
            "For\n",
            "Greeks\n"
          ]
        }
      ]
    },
    {
      "cell_type": "code",
      "source": [
        "list=[\"Greeks\",\"For\",\"Greeks\"]\n",
        "list2=\"my first lab\"\n",
        "list3=4.3\n",
        "list4=2j+6\n",
        "list5='My first lab'\n",
        "print(type(list2))\n",
        "print(type(list3))\n",
        "print(type(list4))\n",
        "print(type(list5))\n",
        "print(\"\\nlist Items: \")\n",
        "print(list)\n",
        "print(type(list))\n",
        "print(list[0])\n",
        "print(list[1])\n",
        "print(list[2])"
      ],
      "metadata": {
        "colab": {
          "base_uri": "https://localhost:8080/"
        },
        "id": "vP2VXjy1yq8d",
        "outputId": "cca327c1-8abd-465f-c984-75b7d0912f76"
      },
      "execution_count": 3,
      "outputs": [
        {
          "output_type": "stream",
          "name": "stdout",
          "text": [
            "<class 'str'>\n",
            "<class 'float'>\n",
            "<class 'complex'>\n",
            "<class 'str'>\n",
            "\n",
            "list Items: \n",
            "['Greeks', 'For', 'Greeks']\n",
            "<class 'list'>\n",
            "Greeks\n",
            "For\n",
            "Greeks\n"
          ]
        }
      ]
    },
    {
      "cell_type": "code",
      "source": [
        "List = {1:\"greek1\",2:'Greeks','for':3,'Greeks':6}\n",
        "print(\"\\nList with the use o mixed values: \")\n",
        "print(list)\n",
        "[print(type(list))]"
      ],
      "metadata": {
        "colab": {
          "base_uri": "https://localhost:8080/"
        },
        "id": "NUdeyW7FywFt",
        "outputId": "63b4f812-5bdc-4282-d671-da2eff7ea6cb"
      },
      "execution_count": 4,
      "outputs": [
        {
          "output_type": "stream",
          "name": "stdout",
          "text": [
            "\n",
            "List with the use o mixed values: \n",
            "['Greeks', 'For', 'Greeks']\n",
            "<class 'list'>\n"
          ]
        },
        {
          "output_type": "execute_result",
          "data": {
            "text/plain": [
              "[None]"
            ]
          },
          "metadata": {},
          "execution_count": 4
        }
      ]
    }
  ]
}